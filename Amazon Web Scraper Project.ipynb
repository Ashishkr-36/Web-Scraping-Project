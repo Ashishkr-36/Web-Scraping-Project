{
 "cells": [
  {
   "cell_type": "code",
   "execution_count": 1,
   "id": "2f77d5ec",
   "metadata": {},
   "outputs": [],
   "source": [
    "from bs4 import BeautifulSoup\n",
    "import requests\n",
    "import smtplib\n",
    "import time\n",
    "import datetime"
   ]
  },
  {
   "cell_type": "code",
   "execution_count": 2,
   "id": "f22f2abc",
   "metadata": {},
   "outputs": [
    {
     "name": "stdout",
     "output_type": "stream",
     "text": [
      "\n",
      "                     Allen Solly Men's Regular Fit Polo\n",
      "                    \n",
      "\n",
      "                       799\n",
      "                      \n"
     ]
    }
   ],
   "source": [
    "URL = 'https://www.amazon.in/Allen-Solly-Regular-AMKP317G04249_Jet-Black_X-Large/dp/B06Y2CH63N/ref=sr_1_5?crid=RNJMKLVFDL25&dib=eyJ2IjoiMSJ9.L97UFW7hUzBptau97O-MjVarNFSxL_navpkCEy7UZFxiozDvyis3zxiPztXhnA3bp_wyS_NucRcbbkrKSyomOzem_c0C7DlrSz9MNgkzj_4c17tZTNw4Ksl5x5e9fhOQyhNH9gDj2vNkvzu4xmFjyksUA_c2ahLgbrrU8uobFAwBXsOqgJeg1tu8pTOthhp8P9jk3oFSNEmfu5Fe8ovEt7y_KfO4YqIkf0eeHLkNCYqrTCtisXAo_D-0iLBEUgwa8uRTA3cjnGHXXeysMl4qaT5c1MuxzFfPOQ1wi7Izs8E.H9uBZddlFw1tuQjCcLJKsvuuhNMvIf3dqy0ROvcxgbU&dib_tag=se&keywords=t+shirt+for+men&qid=1719217145&sprefix=t%2Caps%2C269&sr=8-5'\n",
    "headers = {\"User-Agent\": \"Mozilla/5.0 (Windows NT 10.0; Win64; x64) AppleWebKit/537.36 (KHTML, like Gecko) Chrome/126.0.0.0 Safari/537.36 Edg/126.0.0.0\"}\n",
    "\n",
    "page = requests.get(URL,headers = headers )\n",
    "\n",
    "soup1 = BeautifulSoup(page.content, \"html.parser\")\n",
    "\n",
    "soup2 = BeautifulSoup(soup1.prettify(), \"html.parser\")\n",
    "\n",
    "title = soup2.find(id=\"productTitle\").get_text()\n",
    "price = soup2.find(class_=\"a-price-whole\").get_text()\n",
    "\n",
    "print(title)\n",
    "print(price)\n",
    "\n",
    "\n"
   ]
  },
  {
   "cell_type": "code",
   "execution_count": 3,
   "id": "16fd6a8a",
   "metadata": {},
   "outputs": [
    {
     "name": "stdout",
     "output_type": "stream",
     "text": [
      "Allen Solly Men's Regular Fit Polo\n",
      "799\n"
     ]
    }
   ],
   "source": [
    "price = price.strip()\n",
    "title= title.strip()\n",
    "\n",
    "print(title)\n",
    "print(price)"
   ]
  },
  {
   "cell_type": "code",
   "execution_count": 4,
   "id": "63150671",
   "metadata": {},
   "outputs": [
    {
     "name": "stdout",
     "output_type": "stream",
     "text": [
      "2024-06-25\n"
     ]
    }
   ],
   "source": [
    "import datetime\n",
    "\n",
    "today = datetime.date.today()\n",
    "\n",
    "print(today)"
   ]
  },
  {
   "cell_type": "code",
   "execution_count": 5,
   "id": "69fc7272",
   "metadata": {},
   "outputs": [],
   "source": [
    "import csv\n",
    "\n",
    "\n",
    "header = ['Title', 'Price','Date']\n",
    "data = [title, price,today]\n",
    "\n",
    "#   ----- Only run onetime -----\n",
    "#with open('AmazonWebScraperDataset.csv', 'w', newline = '', encoding = 'UTF8') as f:\n",
    "   # writer = csv.writer(f)\n",
    "   # writer.writerow(header)\n",
    "   # writer.writerow(data)"
   ]
  },
  {
   "cell_type": "code",
   "execution_count": 6,
   "id": "d0e7781b",
   "metadata": {},
   "outputs": [
    {
     "data": {
      "text/html": [
       "<div>\n",
       "<style scoped>\n",
       "    .dataframe tbody tr th:only-of-type {\n",
       "        vertical-align: middle;\n",
       "    }\n",
       "\n",
       "    .dataframe tbody tr th {\n",
       "        vertical-align: top;\n",
       "    }\n",
       "\n",
       "    .dataframe thead th {\n",
       "        text-align: right;\n",
       "    }\n",
       "</style>\n",
       "<table border=\"1\" class=\"dataframe\">\n",
       "  <thead>\n",
       "    <tr style=\"text-align: right;\">\n",
       "      <th></th>\n",
       "      <th>Title</th>\n",
       "      <th>Price</th>\n",
       "      <th>Date</th>\n",
       "    </tr>\n",
       "  </thead>\n",
       "  <tbody>\n",
       "    <tr>\n",
       "      <th>0</th>\n",
       "      <td>Allen Solly Men's Regular Fit Polo</td>\n",
       "      <td>799.0</td>\n",
       "      <td>2024-06-24</td>\n",
       "    </tr>\n",
       "    <tr>\n",
       "      <th>1</th>\n",
       "      <td>Allen Solly Men's Regular Fit Polo</td>\n",
       "      <td>NaN</td>\n",
       "      <td>2024-06-24</td>\n",
       "    </tr>\n",
       "  </tbody>\n",
       "</table>\n",
       "</div>"
      ],
      "text/plain": [
       "                                Title  Price        Date\n",
       "0  Allen Solly Men's Regular Fit Polo  799.0  2024-06-24\n",
       "1  Allen Solly Men's Regular Fit Polo    NaN  2024-06-24"
      ]
     },
     "execution_count": 6,
     "metadata": {},
     "output_type": "execute_result"
    }
   ],
   "source": [
    "import pandas as pd\n",
    "df = pd.read_csv(r\"C:\\Users\\91827\\Alex_Analyst\\AmazonWebScraperDataset.csv\")\n",
    "df"
   ]
  },
  {
   "cell_type": "code",
   "execution_count": 7,
   "id": "88384587",
   "metadata": {},
   "outputs": [
    {
     "ename": "IndentationError",
     "evalue": "unexpected indent (3277811415.py, line 4)",
     "output_type": "error",
     "traceback": [
      "\u001b[1;36m  Cell \u001b[1;32mIn[7], line 4\u001b[1;36m\u001b[0m\n\u001b[1;33m    writer = csv.writer(f)\u001b[0m\n\u001b[1;37m    ^\u001b[0m\n\u001b[1;31mIndentationError\u001b[0m\u001b[1;31m:\u001b[0m unexpected indent\n"
     ]
    }
   ],
   "source": [
    "# Appending data to the csv\n",
    "\n",
    "#with open('AmazonWebScraperDataset.csv', 'a+', newline = '', encoding = 'UTF8') as f:\n",
    "    writer = csv.writer(f)\n",
    "    writer.writerow(data)"
   ]
  },
  {
   "cell_type": "code",
   "execution_count": 9,
   "id": "443eff59",
   "metadata": {},
   "outputs": [],
   "source": [
    "def check_price():\n",
    "    URL = 'https://www.amazon.in/Allen-Solly-Regular-AMKP317G04249_Jet-Black_X-Large/dp/B06Y2CH63N/ref=sr_1_5?crid=RNJMKLVFDL25&dib=eyJ2IjoiMSJ9.L97UFW7hUzBptau97O-MjVarNFSxL_navpkCEy7UZFxiozDvyis3zxiPztXhnA3bp_wyS_NucRcbbkrKSyomOzem_c0C7DlrSz9MNgkzj_4c17tZTNw4Ksl5x5e9fhOQyhNH9gDj2vNkvzu4xmFjyksUA_c2ahLgbrrU8uobFAwBXsOqgJeg1tu8pTOthhp8P9jk3oFSNEmfu5Fe8ovEt7y_KfO4YqIkf0eeHLkNCYqrTCtisXAo_D-0iLBEUgwa8uRTA3cjnGHXXeysMl4qaT5c1MuxzFfPOQ1wi7Izs8E.H9uBZddlFw1tuQjCcLJKsvuuhNMvIf3dqy0ROvcxgbU&dib_tag=se&keywords=t+shirt+for+men&qid=1719217145&sprefix=t%2Caps%2C269&sr=8-5'\n",
    "    headers = {\"User-Agent\": \"Mozilla/5.0 (Windows NT 10.0; Win64; x64) AppleWebKit/537.36 (KHTML, like Gecko) Chrome/126.0.0.0 Safari/537.36 Edg/126.0.0.0\"}\n",
    "\n",
    "    page = requests.get(URL,headers = headers )\n",
    "\n",
    "    soup1 = BeautifulSoup(page.content, \"html.parser\")\n",
    "\n",
    "    soup2 = BeautifulSoup(soup1.prettify(), \"html.parser\")\n",
    "\n",
    "    title = soup2.find(id=\"productTitle\").get_text()\n",
    "    #symbol= soup2.find(id= \"a-price-symbol\").get_text()\n",
    "    price = soup2.find(id=\"taxInclusiveMessage\").get_text()\n",
    "\n",
    "    price = price.strip()\n",
    "    title= title.strip()\n",
    "\n",
    "    import datetime\n",
    "\n",
    "    today = datetime.date.today()\n",
    "    \n",
    "    import csv\n",
    "\n",
    "\n",
    "    header = ['Title', 'Price','Date']\n",
    "    data = [title, price,today]\n",
    "\n",
    "\n",
    "    with open('AmazonWebScraperDataset.csv', 'a+', newline = '', encoding = 'UTF8') as f:\n",
    "        writer = csv.writer(f)\n",
    "        writer.writerow(data)"
   ]
  },
  {
   "cell_type": "code",
   "execution_count": 10,
   "id": "26073d66",
   "metadata": {},
   "outputs": [],
   "source": [
    "Price_in_a_month = 30 * 24 * 60 * 60   # (if we want Weekly price check 7 * 24 * 60 * 60)\n",
    "\n",
    "while(True):\n",
    "    check_price()\n",
    "    time.sleep(Price_in_a_month)"
   ]
  },
  {
   "cell_type": "code",
   "execution_count": null,
   "id": "48f26e5d",
   "metadata": {},
   "outputs": [],
   "source": [
    "import pandas as pd\n",
    "df = pd.read_csv(r\"C:\\Users\\91827\\Alex_Analyst\\AmazonWebScraperDataset.csv\")\n",
    "df"
   ]
  },
  {
   "cell_type": "code",
   "execution_count": null,
   "id": "f3bbee15",
   "metadata": {},
   "outputs": [],
   "source": []
  }
 ],
 "metadata": {
  "kernelspec": {
   "display_name": "Python 3 (ipykernel)",
   "language": "python",
   "name": "python3"
  },
  "language_info": {
   "codemirror_mode": {
    "name": "ipython",
    "version": 3
   },
   "file_extension": ".py",
   "mimetype": "text/x-python",
   "name": "python",
   "nbconvert_exporter": "python",
   "pygments_lexer": "ipython3",
   "version": "3.11.8"
  }
 },
 "nbformat": 4,
 "nbformat_minor": 5
}
